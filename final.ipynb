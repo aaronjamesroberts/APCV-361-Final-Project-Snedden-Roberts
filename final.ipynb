{
 "cells": [
  {
   "cell_type": "markdown",
   "metadata": {},
   "source": [
    "# Final Project\n",
    "\n",
    "1. Get data \n",
    "    * coal plants states, cities\n",
    "    * death rate in plant city\n",
    "    * state death rate\n",
    "1. compare to state avg\n",
    "1. compare state avg to country avg"
   ]
  },
  {
   "cell_type": "code",
   "execution_count": 1,
   "metadata": {},
   "outputs": [],
   "source": [
    "import pandas as pd\n",
    "import numpy as np\n",
    "import matplotlib as plt"
   ]
  },
  {
   "attachments": {},
   "cell_type": "markdown",
   "metadata": {},
   "source": [
    "### import data"
   ]
  },
  {
   "cell_type": "code",
   "execution_count": 2,
   "metadata": {},
   "outputs": [],
   "source": [
    "data = pd.read_excel('power_plants_and_communities.xls') # data from EPA 2019"
   ]
  },
  {
   "cell_type": "code",
   "execution_count": 3,
   "metadata": {},
   "outputs": [],
   "source": [
    "data.rename(columns={'Flag indicating if the plant burned or generated any amount of coal': 'Burned_coal', 'Plant state abbreviation': 'State_abbreviation',\n",
    "                    'Plant county name': 'Plant_county', 'State Name': 'State'}, inplace=True) #changes col names to be easier and panda friendly"
   ]
  },
  {
   "attachments": {},
   "cell_type": "markdown",
   "metadata": {},
   "source": [
    "I need: State_abbreviation, Plant_county,Burned_or_generate_any_coal, state name in new df for easier reading and access\n",
    "enter into new file for easier data reading\n",
    "\n",
    "* changes from 326 columns to just 4. \n",
    "    * can add more if needed"
   ]
  },
  {
   "cell_type": "code",
   "execution_count": 4,
   "metadata": {},
   "outputs": [
    {
     "name": "stdout",
     "output_type": "stream",
     "text": [
      "  State_abbreviation    State    Plant_county Burned_coal\n",
      "0                 AK   Alaska  Aleutians East         NaN\n",
      "1                 AL  Alabama          Mobile         Yes\n",
      "2                 AL  Alabama          Etowah         NaN\n",
      "3                 AL  Alabama          Walker         Yes\n",
      "4                 TX    Texas         El Paso         NaN\n"
     ]
    }
   ],
   "source": [
    "#new_df = data[['State_abbreviation', 'State', 'Plant_county', 'Burned_coal']]\n",
    "#print(new_df.head())\n",
    "#new_df.to_csv('Compressed_power_plant_data.csv', index=False)\n",
    " #index false: doesnt add new index column\n",
    "\n",
    "power_plants = pd.read_csv('Compressed_power_plant_data.csv')\n",
    "print(power_plants.head()) #.head() first five. insert number to read up to x. can use -x to start in reverse."
   ]
  },
  {
   "attachments": {},
   "cell_type": "markdown",
   "metadata": {},
   "source": [
    "##### Import Mortality data\n",
    "* imported from 2022 Country Health rata datasheet"
   ]
  },
  {
   "cell_type": "code",
   "execution_count": 5,
   "metadata": {},
   "outputs": [],
   "source": [
    "mortality_df = pd.read_excel('2022 County Health Rankings Data.xlsx', sheet_name=5)\n",
    "mortality_df = mortality_df.rename(columns=mortality_df.iloc[0]).drop(mortality_df.index[0]).reset_index(drop = True) #naming the columns"
   ]
  },
  {
   "attachments": {},
   "cell_type": "markdown",
   "metadata": {},
   "source": [
    "* should subtract the covid death numbers from numbers to counter the influance\n",
    "\n",
    "* Realy large file. Perhaps filer it"
   ]
  },
  {
   "cell_type": "code",
   "execution_count": 6,
   "metadata": {},
   "outputs": [],
   "source": [
    "power_plants.Burned_coal.fillna('No', inplace=True) # replaces the NaN of col with No. NaN already meant no\n",
    "coal_df = power_plants[power_plants['Burned_coal'] == 'Yes'] # only if plant burns coal\n",
    "no_coal_df = power_plants[power_plants['Burned_coal'] != 'Yes'] # only if plant does not burns coal\n"
   ]
  },
  {
   "attachments": {},
   "cell_type": "markdown",
   "metadata": {},
   "source": [
    "#### Merge mortality with the coal and No-Coal df"
   ]
  },
  {
   "cell_type": "code",
   "execution_count": 7,
   "metadata": {},
   "outputs": [],
   "source": [
    "merged_no_coal = pd.merge(no_coal_df, mortality_df, left_on= 'Plant_county', right_on='County', suffixes=['_coal_df', '_mortality_df']).drop_duplicates()\n",
    "non_coal_merge_filtered = merged_no_coal[(merged_no_coal.State_coal_df == merged_no_coal.State_mortality_df) & (merged_no_coal.Plant_county == merged_no_coal.County)]\n",
    "merged_coal = pd.merge(coal_df, mortality_df, left_on= 'Plant_county', right_on='County', suffixes=['_coal_df', '_mortality_df']).drop_duplicates()\n",
    "coal_merge_filtered = merged_coal[(merged_coal.State_coal_df == merged_coal.State_mortality_df) & (merged_coal.Plant_county == merged_coal.County)]\n",
    "\n",
    "#merged_no_coal = pd.merge(no_coal_df, mortality_df, how='left') # should only be data on non-Coal plants\n",
    "#merged_coal = pd.merge(coal_df, mortality_df, how='left') # should only be data on Coal plants\n",
    "#coal_merge_filtered = merged_coal[merged_coal.Plant_county == merged_coal.County]"
   ]
  },
  {
   "cell_type": "code",
   "execution_count": null,
   "metadata": {},
   "outputs": [],
   "source": []
  },
  {
   "cell_type": "code",
   "execution_count": 8,
   "metadata": {},
   "outputs": [
    {
     "data": {
      "text/plain": [
       "Index(['State_abbreviation', 'State', 'Plant_county', 'Burned_coal'], dtype='object')"
      ]
     },
     "execution_count": 8,
     "metadata": {},
     "output_type": "execute_result"
    }
   ],
   "source": [
    "coal_df.columns"
   ]
  },
  {
   "cell_type": "code",
   "execution_count": 9,
   "metadata": {},
   "outputs": [
    {
     "name": "stdout",
     "output_type": "stream",
     "text": [
      "There are 3467 power plants across the United states. These plants are spread across all 52 states: ['AK' 'AL' 'TX' 'MN' 'LA' 'KY' 'NE' 'NM' 'WA' 'KS' 'AZ' 'SC' 'FL' 'CA'\n",
      " 'OK' 'AR' 'IL' 'CO' 'CT' 'VT' 'DE' 'MD' 'MO' 'GA' 'HI' 'ID' 'IN' 'NC'\n",
      " 'IA' 'ME' 'MA' 'MI' 'MS' 'MT' 'WY' 'NV' 'NH' 'NJ' 'NY' 'ND' 'OH' 'PA'\n",
      " 'RI' 'SD' 'TN' 'UT' 'VA' 'WV' 'WI' 'OR' 'DC' 'PR'].\n",
      "Of these 3467 power plants, 3120 are non-coal burning plants and 357 still burning coal\n"
     ]
    }
   ],
   "source": [
    "print(f\"There are {power_plants['Plant_county'].count()} power plants across the United states.\\\n",
    " These plants are spread across all {power_plants['State_abbreviation'].nunique()} states: {power_plants['State_abbreviation'].unique()}.\\n\\\n",
    "Of these {power_plants['Plant_county'].count()} power plants, {no_coal_df['State_abbreviation'].count()} are non-coal burning plants\\\n",
    " and {coal_df['State_abbreviation'].count()} still burning coal\")"
   ]
  },
  {
   "attachments": {},
   "cell_type": "markdown",
   "metadata": {},
   "source": [
    "#### Filter/calculate mortality rates.\n",
    "* not sure which columns to calculate on. Need to figure out specific columns to work on"
   ]
  },
  {
   "cell_type": "code",
   "execution_count": 10,
   "metadata": {},
   "outputs": [],
   "source": [
    "#mortality_df.columns\n",
    "merged_coal.columns\n",
    "coal_expectancy_median = coal_merge_filtered['Life Expectancy'].median()\n",
    "coal_expectancy_mean = coal_merge_filtered['Life Expectancy'].mean()\n",
    "#did median since it is less effective by large deviated values compared to mean\n",
    "non_coal_expectancy_median = non_coal_merge_filtered['Life Expectancy'].median()\n",
    "non_coal_expectancy_mean = non_coal_merge_filtered['Life Expectancy'].mean()\n",
    "\n",
    "coal_expectancy_std = coal_merge_filtered['Life Expectancy'].std()\n",
    "non_coal_expectancy_std = non_coal_merge_filtered['Life Expectancy'].std() \n",
    "\n",
    "non_coal_expectancy_min = non_coal_merge_filtered['Life Expectancy'].min()\n",
    "non_coal_expectancy_max = non_coal_merge_filtered['Life Expectancy'].max()\n",
    "\n",
    "coal_expectancy_min = coal_merge_filtered['Life Expectancy'].min()\n",
    "coal_expectancy_max = coal_merge_filtered['Life Expectancy'].max()\n"
   ]
  },
  {
   "cell_type": "code",
   "execution_count": 14,
   "metadata": {},
   "outputs": [
    {
     "name": "stdout",
     "output_type": "stream",
     "text": [
      "Collecting prettytable\n",
      "  Downloading prettytable-3.6.0-py3-none-any.whl (27 kB)\n",
      "Requirement already satisfied: wcwidth in c:\\users\\the baron\\appdata\\roaming\\python\\python311\\site-packages (from prettytable) (0.2.6)\n",
      "Installing collected packages: prettytable\n",
      "Successfully installed prettytable-3.6.0\n",
      "Note: you may need to restart the kernel to use updated packages.\n"
     ]
    },
    {
     "name": "stderr",
     "output_type": "stream",
     "text": [
      "\n",
      "[notice] A new release of pip available: 22.3 -> 23.0.1\n",
      "[notice] To update, run: python.exe -m pip install --upgrade pip\n"
     ]
    }
   ],
   "source": [
    "pip install prettytable"
   ]
  },
  {
   "cell_type": "code",
   "execution_count": 17,
   "metadata": {},
   "outputs": [
    {
     "name": "stdout",
     "output_type": "stream",
     "text": [
      "+-------------------------+--------------------+-------------------+\n",
      "|       Column Name       |     Coal Data      |   Non-Coal Data   |\n",
      "+-------------------------+--------------------+-------------------+\n",
      "|   Life Expectancy Mean  |  76.8781509794726  | 77.56617971893117 |\n",
      "|  Life Expectancy Median |    76.956256658    |   77.6716711165   |\n",
      "|   Life Expectancy Std   | 2.9068079886044615 | 3.037456756058826 |\n",
      "| Life Expectancy Mininum |    66.185033494    |    64.484295722   |\n",
      "| Life Expectancy Maximum |    89.085612122    |    112.50385595   |\n",
      "+-------------------------+--------------------+-------------------+\n"
     ]
    }
   ],
   "source": [
    "from prettytable import PrettyTable\n",
    "\n",
    "# Create a table object\n",
    "table = PrettyTable()\n",
    "\n",
    "# Add columns\n",
    "table.add_column(\"Column Name\", [\"Life Expectancy Mean\", \"Life Expectancy Median\", \"Life Expectancy Std\",\n",
    "                                \"Life Expectancy Mininum\", \"Life Expectancy Maximum\"])\n",
    "\n",
    "# Add coal data\n",
    "table.add_column(\"Coal Data\", [coal_expectancy_mean, coal_expectancy_median, coal_expectancy_std,\n",
    "                               coal_expectancy_min, coal_expectancy_max])\n",
    "\n",
    "# Add non-coal data\n",
    "table.add_column(\"Non-Coal Data\", [non_coal_expectancy_mean, non_coal_expectancy_median, non_coal_expectancy_std,\n",
    "                                   non_coal_expectancy_min, non_coal_expectancy_max])\n",
    "\n",
    "# Print the table\n",
    "print(table)"
   ]
  },
  {
   "cell_type": "code",
   "execution_count": 54,
   "metadata": {},
   "outputs": [
    {
     "name": "stdout",
     "output_type": "stream",
     "text": [
      "For Counties with Non-Coal-Powered plants the median life expectancy is 77.6716711165 and mean of 77.56617971893117 with a standard deviation of 77.6716711165.While the minimum is 64.484295722 and max of 112.50385595. \n",
      "while the Counties with Coal powered plants is 76.956256658 and mean of 76.8781509794726 with a standard deviation of 2.9068079886044615. The minimum life expectancy being 66.185033494 and a max expectancy of 89.085612122\n"
     ]
    }
   ],
   "source": [
    "print(f'For Counties with Non-Coal-Powered plants the median life expectancy is {non_coal_expectancy_median} and mean of {non_coal_expectancy_mean} with a standard deviation of {non_coal_expectancy_median}.\\\n",
    "While the minimum is {non_coal_expectancy_min} and max of {non_coal_expectancy_max}. \\n\\\n",
    "while the Counties with Coal powered plants is {coal_expectancy_median} and mean of {coal_expectancy_mean} with a standard deviation of {coal_expectancy_std}. \\\n",
    "The minimum life expectancy being {coal_expectancy_min} and a max expectancy of {coal_expectancy_max}')\n"
   ]
  },
  {
   "cell_type": "markdown",
   "metadata": {},
   "source": []
  },
  {
   "attachments": {},
   "cell_type": "markdown",
   "metadata": {},
   "source": [
    "## Sources\n",
    "Emissions from burning coal\n",
    "Several principal emissions result from coal combustion:\n",
    "\n",
    "Sulfur dioxide (SO2), which contributes to acid rain and respiratory illnesses\n",
    "Nitrogen oxides (NOx), which contribute to smog and respiratory illnesses\n",
    "Particulates, which contribute to smog, haze, and respiratory illnesses and lung disease\n",
    "Carbon dioxide (CO2), which is the primary greenhouse gas produced from burning fossil fuels (coal, oil, and natural gas)\n",
    "Mercury and other heavy metals, which have been linked to both neurological and developmental damage in humans and other animals\n",
    "Fly ash and bottom ash, which are residues created when power plants burn coal\n",
    "The U.S. Energy Information Administration estimates (as of October 2022) that in 2021, CO2 emissions from burning coal for energy accounted for about 20% of total U.S. energy-related CO2 emissions and for nearly 60% of total CO2 emissions from the electric power sector.\n",
    "\n",
    "In the past, fly ash was released into the air through the smokestack, but laws now require that most emissions of fly ash be captured by pollution control devices. In the United States, fly ash and bottom ash are generally stored near power plants or placed in landfills. Pollution leaching from coal ash storage and landfills into groundwater and several large impoundments of coal ash that ruptured are environmental concerns.\n",
    "\n",
    "#### APA Citation:\n",
    "\n",
    "U.S. Energy Information Administration . (2022, November 16). Coal explained, Coal and the Environment. Retrieved from U.S. Energy Information Administration : https://www.eia.gov/energyexplained/coal/coal-and-the-environment.php#:~:text=The%20U.S.%20Energy%20Information%20Administration,from%20the%20electric%20power%20sector.\n",
    "\n",
    "\n",
    "There are about 1,400 coal- and oil-fired electric generating units (EGUs) at 600 power plants covered by these standards. They emit harmful pollutants, including mercury, non-mercury metallic toxics, acid gases, and organic air toxics such as dioxin.\n",
    "\n",
    "Power plants are currently the dominant emitters of mercury (50 percent), acid gases (over 75 percent) and many toxic metals (20-60 percent) in the United States (see graphic at right).\n",
    "\n",
    "While newer, and a significant percentage of older power plants already control their emissions of mercury, heavy metals, and acid gases, approximately 40 percent of the current EGUs still do not have advanced pollution control equipment.\n",
    "\n",
    "The other big sources of mercury have already reduced their emissions.\n",
    "\n",
    "#### APA Citation\n",
    "\n",
    "United States Environmental Protection Agency. (2022, July 26). Cleaner Power Plants. Retrieved from Mercury and Air Toxics Standards: https://www.epa.gov/mats/cleaner-power-plants"
   ]
  }
 ],
 "metadata": {
  "kernelspec": {
   "display_name": "base",
   "language": "python",
   "name": "python3"
  },
  "language_info": {
   "codemirror_mode": {
    "name": "ipython",
    "version": 3
   },
   "file_extension": ".py",
   "mimetype": "text/x-python",
   "name": "python",
   "nbconvert_exporter": "python",
   "pygments_lexer": "ipython3",
   "version": "3.11.0"
  },
  "orig_nbformat": 4
 },
 "nbformat": 4,
 "nbformat_minor": 2
}
