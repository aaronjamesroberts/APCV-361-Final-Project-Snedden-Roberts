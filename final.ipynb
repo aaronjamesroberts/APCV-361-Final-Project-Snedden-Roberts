{
 "cells": [
  {
   "cell_type": "markdown",
   "metadata": {},
   "source": [
    "# Final Project\n",
    "\n",
    "1. Get data \n",
    "    * coal plants states, cities\n",
    "    * death rate in plant city\n",
    "    * state death rate\n",
    "1. compare to state avg\n",
    "1. compare state avg to country avg"
   ]
  },
  {
   "cell_type": "code",
   "execution_count": 1,
   "metadata": {},
   "outputs": [],
   "source": [
    "import pandas as pd\n",
    "import numpy as np\n",
    "import matplotlib as plt"
   ]
  },
  {
   "attachments": {},
   "cell_type": "markdown",
   "metadata": {},
   "source": [
    "### import data"
   ]
  },
  {
   "cell_type": "code",
   "execution_count": 2,
   "metadata": {},
   "outputs": [],
   "source": [
    "data = pd.read_excel('power_plants_and_communities.xls') # data from 2019\n",
    "coal_df = data[data['Flag indicating if the plant burned or generated any amount of coal'] == 'Yes'] # only if plant burns coal\n",
    "no_coal_df = data[data['Flag indicating if the plant burned or generated any amount of coal'] != 'Yes'] # only if plant does not burns coal\n",
    "mortality_df = pd.read_excel('2022 County Health Rankings Data.xlsx', sheet_name=5)\n"
   ]
  },
  {
   "cell_type": "code",
   "execution_count": 3,
   "metadata": {},
   "outputs": [],
   "source": [
    "mortality_df = mortality_df.rename(columns=mortality_df.iloc[0]).drop(mortality_df.index[0]).reset_index(drop = True)"
   ]
  },
  {
   "attachments": {},
   "cell_type": "markdown",
   "metadata": {},
   "source": [
    "#### Sort Data"
   ]
  },
  {
   "cell_type": "code",
   "execution_count": 4,
   "metadata": {},
   "outputs": [],
   "source": [
    "states = pd.array(coal_df['Plant state abbreviation'])\n",
    "all_coal_states = set(np.array(coal_df['Plant state abbreviation']))\n",
    "coal_plants = np.array(coal_df['Plant name'])\n",
    "all_coal_county = np.array(coal_df['Plant county name'])\n",
    "coal_plant_amnt = len(coal_plants)\n",
    "filtered_coal_states = []\n",
    "filtered_coal_county = []\n",
    "\n",
    "no_coal_states = no_coal_df['Plant state abbreviation']\n",
    "no_coal_plants = no_coal_df['Plant name']\n",
    "no_coal_county = no_coal_df['Plant county name']\n",
    "no_coal_plant_amnt = len(no_coal_plants)\n"
   ]
  },
  {
   "attachments": {},
   "cell_type": "markdown",
   "metadata": {},
   "source": [
    "* Filter results between the death rates and plant data"
   ]
  },
  {
   "cell_type": "code",
   "execution_count": 5,
   "metadata": {},
   "outputs": [],
   "source": [
    "for y in range(len(mortality_df['County'])):\n",
    "    if mortality_df['County'][y] in all_coal_county:\n",
    "        filtered_coal_county.append(mortality_df['County'][y])\n",
    "    elif mortality_df['State'][y] not in all_coal_states:\n",
    "        filtered_coal_states.append(mortality_df['State'][y])\n"
   ]
  },
  {
   "cell_type": "code",
   "execution_count": null,
   "metadata": {},
   "outputs": [],
   "source": [
    "filtered_coal_states"
   ]
  }
 ],
 "metadata": {
  "kernelspec": {
   "display_name": "base",
   "language": "python",
   "name": "python3"
  },
  "language_info": {
   "codemirror_mode": {
    "name": "ipython",
    "version": 3
   },
   "file_extension": ".py",
   "mimetype": "text/x-python",
   "name": "python",
   "nbconvert_exporter": "python",
   "pygments_lexer": "ipython3",
   "version": "3.9.15"
  },
  "orig_nbformat": 4
 },
 "nbformat": 4,
 "nbformat_minor": 2
}
